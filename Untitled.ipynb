{
 "cells": [
  {
   "cell_type": "markdown",
   "metadata": {},
   "source": [
    "# Next\n",
    "\n",
    "1. Split up column 40 into 1 or 2 columns: \"TotalCost\" and \"CostPerKg\". However - that would result in effectively two different data sets.\n",
    "2. Convert \"TotalCost\" units into millions/thousands of shillings? Depends what the magnitude is. Otherwise, leave as raw numbers. \n",
    "\n",
    "## Main Income cols to clean\n",
    "\n",
    "1. Q38.CashCropEarnings\n",
    "2. Q61.CropEarning\n",
    "3. Q69.AmountEarnedCattle\n",
    "4. Q72.TotalEarningCattle [note I don't know the difference between Q69 and Q72; some people have given same answers for both, some people haven't...]\n",
    "5. Q113.CostOfChange\n",
    "6. Q118.CostStarting"
   ]
  },
  {
   "cell_type": "code",
   "execution_count": null,
   "metadata": {
    "collapsed": true
   },
   "outputs": [],
   "source": [
    "import csv\n",
    "import pandas as pd\n",
    "import re\n",
    "\n",
    "df = pd.read_csv('DataPrep/UgandaClean.csv')"
   ]
  },
  {
   "cell_type": "code",
   "execution_count": null,
   "metadata": {
    "collapsed": false
   },
   "outputs": [],
   "source": [
    "df.columns"
   ]
  },
  {
   "cell_type": "code",
   "execution_count": null,
   "metadata": {
    "collapsed": false
   },
   "outputs": [],
   "source": [
    "cols_to_clean = [col for col in df.columns if 'Q38' in col]\n",
    "\n",
    "cols_to_clean\n",
    "\n",
    "pd.unique(df[cols_to_clean[0]])"
   ]
  },
  {
   "cell_type": "code",
   "execution_count": 48,
   "metadata": {
    "collapsed": false
   },
   "outputs": [],
   "source": [
    "def clean_amount_columns (row, column_name):\n",
    "    input_value = row[column_name]\n",
    "    \n",
    "    commas_pattern = '^[\\d\\,]*$'\n",
    "    m_pattern = '^\\d{1,}(\\.\\d{1,})?m(illion)?(ugx)?'\n",
    "    \n",
    "    #print input_value\n",
    "    \n",
    "    if pd.isnull(input_value):\n",
    "        return input_value \n",
    "    \n",
    "    if re.search(commas_pattern,input_value):\n",
    "        return float(re.sub('(\\,)', '', input_value))\n",
    "    elif re.search(m_pattern, input_value):\n",
    "        number_only = float(re.sub('m(illion)?(ugx)?', '', input_value)) * 1000000\n",
    "        return number_only\n",
    "    else:\n",
    "        return input_value\n",
    "    \n"
   ]
  },
  {
   "cell_type": "code",
   "execution_count": 49,
   "metadata": {
    "collapsed": false
   },
   "outputs": [],
   "source": [
    "clean_col_name = cols_to_clean[0]+'.Clean'\n",
    "df[clean_col_name] = df.apply(lambda row: clean_amount_columns(row, cols_to_clean[0]), axis=1)\n",
    "\n",
    "#df[df.apply(lambda x: ~isinstance(x[clean_col_name], (int, float)), axis=1)]"
   ]
  },
  {
   "cell_type": "code",
   "execution_count": null,
   "metadata": {
    "collapsed": true
   },
   "outputs": [],
   "source": []
  }
 ],
 "metadata": {
  "kernelspec": {
   "display_name": "Python 2",
   "language": "python",
   "name": "python2"
  },
  "language_info": {
   "codemirror_mode": {
    "name": "ipython",
    "version": 2
   },
   "file_extension": ".py",
   "mimetype": "text/x-python",
   "name": "python",
   "nbconvert_exporter": "python",
   "pygments_lexer": "ipython2",
   "version": "2.7.11"
  }
 },
 "nbformat": 4,
 "nbformat_minor": 0
}
