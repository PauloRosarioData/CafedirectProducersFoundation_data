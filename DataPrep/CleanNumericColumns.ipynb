{
 "cells": [
  {
   "cell_type": "markdown",
   "metadata": {},
   "source": [
    "# Next\n",
    "\n",
    "1. Split up column 40 into 1 or 2 columns: \"TotalCost\" and \"CostPerKg\". However - that would result in effectively two different data sets.\n",
    "2. Convert \"TotalCost\" units into millions/thousands of shillings? Depends what the magnitude is. Otherwise, leave as raw numbers. \n",
    "\n",
    "## Main Income cols to clean\n",
    "\n",
    "1. ~~Q38.CashCropEarnings~~\n",
    "2. ~~Q61.CropEarning~~\n",
    "3. ~~Q69.AmountEarnedCattle~~\n",
    "4. ~~Q72.TotalEarningCattle [note I don't know the difference between Q69 and Q72; some people have given same answers for both, some people haven't...]~~\n",
    "5. ~~Q113.CostOfChange~~\n",
    "6. ~~Q118.CostStarting~~"
   ]
  },
  {
   "cell_type": "code",
   "execution_count": null,
   "metadata": {
    "collapsed": true
   },
   "outputs": [],
   "source": [
    "import csv\n",
    "import pandas as pd\n",
    "import numpy as np\n",
    "import re\n",
    "\n",
    "df = pd.read_csv('DataPrep/UgandaClean.csv')"
   ]
  },
  {
   "cell_type": "code",
   "execution_count": null,
   "metadata": {
    "collapsed": false
   },
   "outputs": [],
   "source": [
    "df.columns"
   ]
  },
  {
   "cell_type": "code",
   "execution_count": null,
   "metadata": {
    "collapsed": false
   },
   "outputs": [],
   "source": [
    "def compile(expression):\n",
    "    return re.compile(expression, re.I)\n",
    "\n",
    "def clean_amount_columns (row, column_name):\n",
    "    input_value = row[column_name]\n",
    "    \n",
    "    \n",
    "    if pd.isnull(input_value):\n",
    "        return input_value \n",
    "    \n",
    "    # global cleanup\n",
    "    input_value = re.sub('\\s', '', input_value)\n",
    "    leading_string_pattern = compile('v')\n",
    "    input_value = leading_string_pattern.sub('', input_value)\n",
    "    \n",
    "    commas_pattern = compile('^[\\d\\,]+$')\n",
    "    commas_pattern_with_random_end_string = compile('^[\\d\\,]+[^\\d]+$')\n",
    "    m_pattern = compile('^\\d{1,}(\\.\\d{1,})?m(illion|ilion)?(ugx)?')\n",
    "    commas_and_currency_pattern = compile('^[\\d\\,]+(ugx|/=|shs)$')\n",
    "    commas_and_currency_with_random_end_string = compile('^[\\d\\,]+(ugx|/=)[^\\d]+$')\n",
    "    no_numbers_pattern = compile('^[^\\d]+$')\n",
    "    \n",
    "\n",
    "    replace_million = compile('m(illion|ilion)?(ugx)?')\n",
    "    replace_comma = compile('(\\,)')\n",
    "    replace_currency = compile('(ugx|/=|shs)')\n",
    "    replace_currency_with_random_string = compile('(ugx|/=|shs)[^\\d]+')\n",
    "    replace_random_end_string = compile('[^\\d]+$')\n",
    "    \n",
    "    if commas_pattern.search(input_value):\n",
    "        return float(replace_comma.sub('', input_value))\n",
    "    elif m_pattern.search(input_value):\n",
    "        number_only = float(replace_million.sub('', input_value)) * 1000000\n",
    "        return number_only\n",
    "    elif commas_and_currency_pattern.search(input_value):\n",
    "        stripped_of_commas = replace_comma.sub('', input_value)\n",
    "        return float(replace_currency.sub('', stripped_of_commas))\n",
    "    elif commas_and_currency_with_random_end_string.search(input_value):\n",
    "        stripped_of_commas = replace_comma.sub('', input_value)\n",
    "        return float(replace_currency_with_random_string.sub('', stripped_of_commas))\n",
    "    elif commas_pattern_with_random_end_string.search(input_value):\n",
    "        stripped_of_commas = replace_comma.sub('', input_value)\n",
    "        return float(replace_random_end_string.sub('', stripped_of_commas))\n",
    "    elif re.search(no_numbers_pattern, input_value):\n",
    "        return np.nan\n",
    "    else:\n",
    "        return input_value\n",
    "    \n",
    "def keep_free_text_only (row, column_name): \n",
    "    input_value = row[column_name]   \n",
    "    if pd.isnull(input_value):\n",
    "        return input_value \n",
    "    no_numbers_pattern = compile('^[^\\d]*$')\n",
    "    if no_numbers_pattern.search(input_value):\n",
    "        return input_value\n",
    "    else:\n",
    "        return np.nan"
   ]
  },
  {
   "cell_type": "code",
   "execution_count": null,
   "metadata": {
    "collapsed": false
   },
   "outputs": [],
   "source": [
    "# Q38, Q61, Q69, Q72, Q113, Q118\n",
    "target_cols = ['Q38', 'Q61', 'Q69', 'Q72', 'Q113', 'Q118']\n",
    "\n",
    "cols_to_clean = [col for target in target_cols for col in df.columns if target in col and not '.FreeText' in col and not '.Clean' in col]\n",
    "\n",
    "cols_to_clean\n",
    "\n",
    "#pd.unique(df[cols_to_clean[0]])"
   ]
  },
  {
   "cell_type": "code",
   "execution_count": null,
   "metadata": {
    "collapsed": false
   },
   "outputs": [],
   "source": [
    "for col_name in cols_to_clean:\n",
    "    clean_col_name = col_name+'.Clean'\n",
    "    freetext_col_name = col_name+'.FreeText'\n",
    "\n",
    "    df[freetext_col_name] = df.apply(lambda row:keep_free_text_only(row, col_name), axis=1)\n",
    "    df[clean_col_name] = df.apply(lambda row: clean_amount_columns(row, col_name), axis=1)\n",
    "\n",
    "    print(col_name, df[clean_col_name].apply(np.isreal).all(skipna=True))\n",
    "\n",
    "    \n",
    "\n"
   ]
  },
  {
   "cell_type": "code",
   "execution_count": null,
   "metadata": {
    "collapsed": false
   },
   "outputs": [],
   "source": [
    "# Use for investigating false columns\n",
    "#pd.unique(df[clean_col_name])\n",
    "#pd.unique(df[freetext_col_name])"
   ]
  },
  {
   "cell_type": "code",
   "execution_count": null,
   "metadata": {
    "collapsed": false
   },
   "outputs": [],
   "source": [
    "[col for target in target_cols for col in df.columns if target in col]"
   ]
  },
  {
   "cell_type": "code",
   "execution_count": null,
   "metadata": {
    "collapsed": true
   },
   "outputs": [],
   "source": [
    "    "
   ]
  }
 ],
 "metadata": {
  "kernelspec": {
   "display_name": "Python 2",
   "language": "python",
   "name": "python2"
  },
  "language_info": {
   "codemirror_mode": {
    "name": "ipython",
    "version": 2
   },
   "file_extension": ".py",
   "mimetype": "text/x-python",
   "name": "python",
   "nbconvert_exporter": "python",
   "pygments_lexer": "ipython2",
   "version": "2.7.11"
  }
 },
 "nbformat": 4,
 "nbformat_minor": 0
}
