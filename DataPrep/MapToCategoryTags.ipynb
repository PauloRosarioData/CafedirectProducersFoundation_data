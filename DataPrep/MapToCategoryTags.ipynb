{
 "cells": [
  {
   "cell_type": "code",
   "execution_count": 6,
   "metadata": {
    "collapsed": false
   },
   "outputs": [
    {
     "data": {
      "text/plain": [
       "'/Users/iago/code/CafedirectProducersFoundation/DataPrep'"
      ]
     },
     "execution_count": 6,
     "metadata": {},
     "output_type": "execute_result"
    }
   ],
   "source": [
    "import csv\n",
    "import pandas as pd\n",
    "import numpy as np\n",
    "import re\n",
    "import os\n"
   ]
  },
  {
   "cell_type": "code",
   "execution_count": 54,
   "metadata": {
    "collapsed": false
   },
   "outputs": [
    {
     "name": "stdout",
     "output_type": "stream",
     "text": [
      "205\n",
      "189\n"
     ]
    }
   ],
   "source": [
    "kenya = pd.read_csv('KenyaClean.csv')\n",
    "print(len(kenya.index))\n",
    "mapping_df = pd.read_csv('kenya_narrativedata_mapping.csv')\n",
    "print(len(mapping_df.index))"
   ]
  },
  {
   "cell_type": "code",
   "execution_count": 14,
   "metadata": {
    "collapsed": false
   },
   "outputs": [
    {
     "data": {
      "text/plain": [
       "0                                                    NaN\n",
       "1                                                  loans\n",
       "2                                               pluckers\n",
       "3                                          Farming costs\n",
       "4                                              Cow feeds\n",
       "5                                            development\n",
       "6                                           workers wage\n",
       "7                                                farming\n",
       "8                                            development\n",
       "9                                development buying land\n",
       "10     invest on developments, pay wages,contribute t...\n",
       "11                                                 wages\n",
       "12                                    wages, development\n",
       "13                                   wages, developments\n",
       "14                                wages, improve my farm\n",
       "15                             wages,saving,animal feeds\n",
       "16                                                wages,\n",
       "17                                         animals feeds\n",
       "18                                animals feeds, savings\n",
       "19             wages,savings,development, daily expenses\n",
       "20                              development,wages,saving\n",
       "21                                         wages,savings\n",
       "22                       saving,development,animal feeds\n",
       "23                            wages, savings, develoment\n",
       "24                saving,development,daily home expenses\n",
       "25                                    animal feeds,wages\n",
       "26                          wages,animal  feeds,savings,\n",
       "27                                  wages, animal feeds,\n",
       "28                                    wages,developments\n",
       "29                   wages, developments, daily expenses\n",
       "                             ...                        \n",
       "159                                                  NaN\n",
       "160                                                  NaN\n",
       "161                                                  NaN\n",
       "162                                                  NaN\n",
       "163                                                  NaN\n",
       "164                                                  NaN\n",
       "165                                                  NaN\n",
       "166                                                  NaN\n",
       "167                                                  NaN\n",
       "168                                                  NaN\n",
       "169                                                  NaN\n",
       "170                                                  NaN\n",
       "171                                                  NaN\n",
       "172                                                  NaN\n",
       "173                                                  NaN\n",
       "174                                                  NaN\n",
       "175                                                  NaN\n",
       "176                                                  NaN\n",
       "177                                                  NaN\n",
       "178                                                  NaN\n",
       "179                                                  NaN\n",
       "180                                                  NaN\n",
       "181                                                  NaN\n",
       "182                                                  NaN\n",
       "183                                                  NaN\n",
       "184                                                  NaN\n",
       "185                                                  NaN\n",
       "186                                                  NaN\n",
       "187                                                  NaN\n",
       "188                                                  NaN\n",
       "Name: Q21.Income.Other, dtype: object"
      ]
     },
     "execution_count": 14,
     "metadata": {},
     "output_type": "execute_result"
    }
   ],
   "source": [
    "mapping_df[['Q21.Income.Other', ]"
   ]
  },
  {
   "cell_type": "code",
   "execution_count": 13,
   "metadata": {
    "collapsed": false
   },
   "outputs": [
    {
     "name": "stdout",
     "output_type": "stream",
     "text": [
      "['Q21.Income.Other', 'Q21.Income.Other.Reponse1.Level1', 'Q21.Income.Other.Reponse1.Level2', 'Q21.Income.Other.Reponse2.Level1', 'Q21.Income.Other.Reponse2.Level2', 'Q93.BankAccountChallenges', 'Q28.FarmHealth.Text', 'Q95.BankLoanFacilityChallenges', 'Q95.BankLoanFacilityChallenges.Reponse1.Level1', 'Q95.BankLoanFacilityChallenges.Reponse1.Level2', 'Q95.BankLoanFacilityChallenges.Reponse2.Level1', 'Q97.BankCreditChallenges', 'Q99.SACCOChallenges', 'Q99.SACCOChallenges.Reponse1.Level1', 'Q99.SACCOChallenges.Reponse1.Level2', 'Q147.OtherInfoAreas', 'Q147.OtherInfoAreas.Reponse1.Level1', 'Q147.OtherInfoAreas.Reponse1.Level2', 'Q147.OtherInfoAreas.Reponse1.Level3', 'Q147.OtherInfoAreas.Reponse2.Level1', 'Q147.OtherInfoAreas.Reponse2.Level2', 'Q147.OtherInfoAreas.Reponse3.Level1', 'Q147.OtherInfoAreas.Reponse3.Level1.1', 'Q147.OtherInfoAreas.Reponse4.Level1', 'Q147.OtherInfoAreas.Reponse5.Level1', 'Q147.OtherInfoAreas.Reponse6.Level1', 'Q147.OtherInfoAreas.Reponse7.Level1', 'Q148.IdeasOfChanges', 'Q150.HelpToImplementChanges', 'Q150.HelpToImplementChanges.Reponse1.Level1', 'Q150.HelpToImplementChanges.Reponse1.Level2', 'Q150.HelpToImplementChanges.Reponse2.Level1', 'Q150.HelpToImplementChanges.Reponse2.Level2', 'Q150.HelpToImplementChanges.Reponse3.Level1', 'Q150.HelpToImplementChanges.Reponse4.Level1', 'Q162.MainChallengesOnFarm', 'Q162.MainChallengesOnFarm.Reponse1.Level1', 'Q162.MainChallengesOnFarm.Reponse1.Level2', 'Q162.MainChallengesOnFarm.Reponse1.Level3', 'Q162.MainChallengesOnFarm.Reponse2.Level1', 'Q162.MainChallengesOnFarm.Reponse2.Level2', 'Q162.MainChallengesOnFarm.Reponse2.Level3', 'Q162.MainChallengesOnFarm.Reponse3.Level1', 'Q162.MainChallengesOnFarm.Reponse3.Level2', 'Q162.MainChallengesOnFarm.Reponse3.Level3', 'Q162.MainChallengesOnFarm.Reponse4.Level1', 'Q162.MainChallengesOnFarm.Reponse4.Level2', 'Q163.SolutionsToAddressProblems', 'Q166.ShareNewFarmingPractice.Example', 'Q170.ChallengesOfSharingInfo', 'Q170.ChallengesOfSharingInfo.Reponse1.Level1', 'Q170.ChallengesOfSharingInfo.Reponse1.Level2', 'Q170.ChallengesOfSharingInfo.Reponse2.Level1', 'Q171.MakeSharingEasier', 'Q171.MakeSharingEasier.Response1.Level1', 'Q171.MakeSharingEasier.Response1.Level2', 'Q171.MakeSharingEasier.Response2.Level1', 'Q171.MakeSharingEasier.Response2.Level2']\n",
      "['Q21.Income.Food.O1', 'Q21.Income.SchoolFees.O2', 'Q21.Income.MedicalBills.O3', 'Q21.Income.Clothes.O4', 'Q21.Income.Energy.O5', 'Q21.Income.Other.O6', 'Q21.Income.Other.O6.Text', 'Q93.BankAccountChallenges', 'Q28.FarmHealth.Text', 'Q95.BankLoanFacilityChallenges', 'Q97.BankCreditChallenges', 'Q99.SACCOChallenges', 'Q147.OtherInfoAreas', 'Q148.IdeasOfChanges', 'Q150.HelpToImplementChanges', 'Q162.MainChallengesOnFarm', 'Q163.SolutionsToAddressProblems', 'Q165.ShareNewFarmingPractice', 'Q165.ShareNewFarmingPractice.Other', 'Q166.ShareNewFarmingPractice.Example', 'Q170.ChallengesOfSharingInfo', 'Q171.MakeSharingEasier']\n"
     ]
    }
   ],
   "source": [
    "target_cols = ['Q21','Q93', 'Q28', 'Q95', 'Q97', 'Q99', 'Q147', 'Q148', 'Q150', 'Q162', 'Q163', 'Q165', 'Q166', 'Q170', 'Q171']\n",
    "\n",
    "mapping_cols = [col for target in target_cols for col in mapping_df.columns if target in col and not '.FreeText' in col and not '.Clean' in col]\n",
    "print(mapping_cols)\n",
    "\n",
    "data_cols = [col for target in target_cols for col in kenya.columns if target in col and not '.FreeText' in col and not '.Clean' in col]\n",
    "print(data_cols)"
   ]
  },
  {
   "cell_type": "code",
   "execution_count": 62,
   "metadata": {
    "collapsed": false
   },
   "outputs": [],
   "source": [
    "sub_columns = mapping_df[['Q21.Income.Other',\n",
    " 'Q21.Income.Other.Reponse1.Level1',\n",
    " 'Q21.Income.Other.Reponse1.Level2',\n",
    " 'Q21.Income.Other.Reponse2.Level1',\n",
    " 'Q21.Income.Other.Reponse2.Level2']]\n",
    "\n",
    "sub_columns = sub_columns.rename(columns={'Q21.Income.Other': 'Q21.Income.Other.O6.Text'})\n",
    "\n",
    "sub_columns = sub_columns.fillna('###')\n"
   ]
  },
  {
   "cell_type": "code",
   "execution_count": 104,
   "metadata": {
    "collapsed": false
   },
   "outputs": [
    {
     "name": "stdout",
     "output_type": "stream",
     "text": [
      "68\n"
     ]
    }
   ],
   "source": [
    "def build_tag_set(row):\n",
    "    clean_row = row.dropna()\n",
    "    return list({item.lower().strip() for _, item in clean_row.iteritems() if item and item != '###'})\n",
    "\n",
    "def map_categories(dataframe, mapping_table, join_keys):\n",
    "    mapped = pd.merge(dataframe, mapping_table, how='inner', on=join_keys)\n",
    "    print(len(mapped.index))\n",
    "    return mapped\n",
    "\n",
    "\n",
    "mapped = map_categories(kenya, sub_columns, ['Q21.Income.Other.O6.Text'])\n"
   ]
  },
  {
   "cell_type": "code",
   "execution_count": 105,
   "metadata": {
    "collapsed": false
   },
   "outputs": [
    {
     "data": {
      "text/plain": [
       "0                                               [loans]\n",
       "1                                               [loans]\n",
       "2                                               [wages]\n",
       "3                                          [farm costs]\n",
       "4                                           [livestock]\n",
       "5                                          [farm costs]\n",
       "6                                          [farm costs]\n",
       "7                                          [farm costs]\n",
       "8                                          [farm costs]\n",
       "9                                          [farm costs]\n",
       "10                                         [farm costs]\n",
       "11                                         [farm costs]\n",
       "12                                         [farm costs]\n",
       "13                                         [farm costs]\n",
       "14                                         [farm costs]\n",
       "15                                              [wages]\n",
       "16                                         [farm costs]\n",
       "17                                         [farm costs]\n",
       "18                                  [farm costs, wages]\n",
       "19                                              [wages]\n",
       "20                                              [wages]\n",
       "21                                              [wages]\n",
       "22                                  [farm costs, wages]\n",
       "23                                  [farm costs, wages]\n",
       "24                                  [farm costs, wages]\n",
       "25                                  [farm costs, wages]\n",
       "26                          [wages, savings, livestock]\n",
       "27                          [wages, savings, livestock]\n",
       "28                                              [wages]\n",
       "29                                              [wages]\n",
       "                            ...                        \n",
       "38                         [farm costs, savings, wages]\n",
       "39                [farm costs, savings, daily expenses]\n",
       "40                                   [wages, livestock]\n",
       "41                          [savings, livestock, wages]\n",
       "42                                   [wages, livestock]\n",
       "43                                  [farm costs, wages]\n",
       "44                  [farm costs, wages, daily expenses]\n",
       "45    [farm costs, wages, group contributions, lives...\n",
       "46                                  [farm costs, wages]\n",
       "47                                   [wages, livestock]\n",
       "48                                   [wages, livestock]\n",
       "49    [farm costs, wages, group contributions, lives...\n",
       "50                                   [wages, livestock]\n",
       "51                                              [wages]\n",
       "52                                              [wages]\n",
       "53                               [livestock, transport]\n",
       "54    [wages, group contributions, daily expenses, l...\n",
       "55                                              [wages]\n",
       "56                                      [land purchase]\n",
       "57                                  [farm costs, wages]\n",
       "58                                         [farm costs]\n",
       "59                                         [farm costs]\n",
       "60                                         [farm costs]\n",
       "61                                         [farm costs]\n",
       "62                                         [farm costs]\n",
       "63                              [farm costs, livestock]\n",
       "64                                      [land purchase]\n",
       "65                                     [loan repayment]\n",
       "66                                            [savings]\n",
       "67               [farm costs, wages, livestock, travel]\n",
       "Name: Q21.Income.Other.O6.Text.Tags, dtype: object"
      ]
     },
     "execution_count": 105,
     "metadata": {},
     "output_type": "execute_result"
    }
   ],
   "source": [
    "target_column = 'Q21.Income.Other.O6.Text.Tags'\n",
    "\n",
    "category_columns = ['Q21.Income.Other.Reponse1.Level1',\n",
    " 'Q21.Income.Other.Reponse1.Level2',\n",
    " 'Q21.Income.Other.Reponse2.Level1',\n",
    " 'Q21.Income.Other.Reponse2.Level2']\n",
    "\n",
    "    \n",
    "merged[target_column] = merged[category_columns].apply(lambda row: build_tag_set(row)\n",
    "             ,axis=1)\n",
    "\n",
    "merged[target_column]"
   ]
  },
  {
   "cell_type": "code",
   "execution_count": 106,
   "metadata": {
    "collapsed": false
   },
   "outputs": [],
   "source": [
    "merged.to_csv('KenyaClean.mapped.csv')"
   ]
  },
  {
   "cell_type": "code",
   "execution_count": null,
   "metadata": {
    "collapsed": true
   },
   "outputs": [],
   "source": []
  }
 ],
 "metadata": {
  "kernelspec": {
   "display_name": "Python 2",
   "language": "python",
   "name": "python2"
  },
  "language_info": {
   "codemirror_mode": {
    "name": "ipython",
    "version": 2
   },
   "file_extension": ".py",
   "mimetype": "text/x-python",
   "name": "python",
   "nbconvert_exporter": "python",
   "pygments_lexer": "ipython2",
   "version": "2.7.11"
  }
 },
 "nbformat": 4,
 "nbformat_minor": 0
}
